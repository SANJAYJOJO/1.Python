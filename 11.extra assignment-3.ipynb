{
 "cells": [
  {
   "cell_type": "code",
   "execution_count": 2,
   "metadata": {},
   "outputs": [
    {
     "name": "stdout",
     "output_type": "stream",
     "text": [
      "Value:10\n",
      "correct\n"
     ]
    }
   ],
   "source": [
    "i=int(input(\"Value:\"))\n",
    "if(i==10):\n",
    "    print(\"correct\")\n",
    "else:\n",
    "    print(\"incorrect\")\n",
    "\n"
   ]
  },
  {
   "cell_type": "code",
   "execution_count": 10,
   "metadata": {},
   "outputs": [
    {
     "name": "stdout",
     "output_type": "stream",
     "text": [
      "Enter The Password:HOPE@123\n",
      "your password is corrcet\n"
     ]
    }
   ],
   "source": [
    "i=(input(\"Enter The Password:\"))\n",
    "if(i==\"HOPE@123\"):\n",
    "    print(\"your password is corrcet\")\n",
    "else:\n",
    "    print(\"your incorrcet password\")"
   ]
  },
  {
   "cell_type": "code",
   "execution_count": 13,
   "metadata": {},
   "outputs": [
    {
     "name": "stdout",
     "output_type": "stream",
     "text": [
      "age:20\n",
      "adult\n"
     ]
    }
   ],
   "source": [
    "i=int(input(\"age:\"))\n",
    "if(i<18):\n",
    "    print(\"children\")\n",
    "elif(i<30):\n",
    "    print(\"adult\")\n",
    "else:(i>30)\n",
    "    print(\"citizen\")"
   ]
  },
  {
   "cell_type": "code",
   "execution_count": 15,
   "metadata": {},
   "outputs": [
    {
     "name": "stdout",
     "output_type": "stream",
     "text": [
      "Enter any Number:1\n",
      "No is postive\n"
     ]
    }
   ],
   "source": [
    "num=int(input(\"Enter any Number:\"))\n",
    "if(num>0):\n",
    "    print(\"No is postive\")\n",
    "elif(num<0):\n",
    "    print(\"No is negative\")"
   ]
  },
  {
   "cell_type": "code",
   "execution_count": 18,
   "metadata": {},
   "outputs": [
    {
     "name": "stdout",
     "output_type": "stream",
     "text": [
      "Enter The Number To Check:22\n",
      "No is Not Divisible by 5\n"
     ]
    }
   ],
   "source": [
    "num=int(input(\"Enter The Number To Check:\"))\n",
    "if(num%5==0):\n",
    "    print(\"No is Divisible by 5\")\n",
    "else:\n",
    "    print(\"No is Not Divisible by 5\")"
   ]
  },
  {
   "cell_type": "code",
   "execution_count": null,
   "metadata": {},
   "outputs": [],
   "source": []
  }
 ],
 "metadata": {
  "kernelspec": {
   "display_name": "Python 3",
   "language": "python",
   "name": "python3"
  },
  "language_info": {
   "codemirror_mode": {
    "name": "ipython",
    "version": 3
   },
   "file_extension": ".py",
   "mimetype": "text/x-python",
   "name": "python",
   "nbconvert_exporter": "python",
   "pygments_lexer": "ipython3",
   "version": "3.7.4"
  }
 },
 "nbformat": 4,
 "nbformat_minor": 2
}
