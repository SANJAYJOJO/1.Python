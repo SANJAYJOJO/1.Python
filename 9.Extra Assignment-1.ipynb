{
 "cells": [
  {
   "cell_type": "code",
   "execution_count": 2,
   "metadata": {},
   "outputs": [
    {
     "name": "stdout",
     "output_type": "stream",
     "text": [
      "HOPE AI\n"
     ]
    }
   ],
   "source": [
    "print(\"HOPE AI\")\n"
   ]
  },
  {
   "cell_type": "code",
   "execution_count": 3,
   "metadata": {},
   "outputs": [
    {
     "name": "stdout",
     "output_type": "stream",
     "text": [
      "Enter your institute name? :HOPE AI\n",
      "HOPE AI\n"
     ]
    }
   ],
   "source": [
    "num=input(\"Enter your institute name? :\")\n",
    "print(num)"
   ]
  },
  {
   "cell_type": "code",
   "execution_count": 4,
   "metadata": {},
   "outputs": [
    {
     "name": "stdout",
     "output_type": "stream",
     "text": [
      "Enter your name? :raj\n",
      "Enter your age:15\n",
      "Enter your school name:guru school\n",
      "Enter your drgree:B.E CSE\n",
      "raj 15 guru school B.E CSE\n"
     ]
    }
   ],
   "source": [
    "name=input(\"Enter your name? :\")\n",
    "age=int(input(\"Enter your age:\"))\n",
    "sclname=input(\"Enter your school name:\")\n",
    "degree=input(\"Enter your drgree:\")\n",
    "print(name,age,sclname,degree)"
   ]
  },
  {
   "cell_type": "code",
   "execution_count": 6,
   "metadata": {},
   "outputs": [
    {
     "name": "stdout",
     "output_type": "stream",
     "text": [
      "77\n"
     ]
    }
   ],
   "source": [
    "a=43\n",
    "b=34\n",
    "add=(a+b)\n",
    "print(add)"
   ]
  },
  {
   "cell_type": "code",
   "execution_count": 11,
   "metadata": {},
   "outputs": [
    {
     "name": "stdout",
     "output_type": "stream",
     "text": [
      "9\n"
     ]
    }
   ],
   "source": [
    "a=43\n",
    "b=34\n",
    "sub=(a-b)\n",
    "print(sub)"
   ]
  },
  {
   "cell_type": "code",
   "execution_count": 12,
   "metadata": {},
   "outputs": [
    {
     "name": "stdout",
     "output_type": "stream",
     "text": [
      "6111\n"
     ]
    }
   ],
   "source": [
    "a=63\n",
    "b=97\n",
    "mul=(a*b)\n",
    "print(mul)"
   ]
  },
  {
   "cell_type": "code",
   "execution_count": 13,
   "metadata": {},
   "outputs": [
    {
     "name": "stdout",
     "output_type": "stream",
     "text": [
      "2.375\n"
     ]
    }
   ],
   "source": [
    "a=76\n",
    "b=32\n",
    "floatdiv=(a/b)\n",
    "print(floatdiv)"
   ]
  },
  {
   "cell_type": "code",
   "execution_count": 25,
   "metadata": {},
   "outputs": [
    {
     "name": "stdout",
     "output_type": "stream",
     "text": [
      "2\n"
     ]
    }
   ],
   "source": [
    "a=76\n",
    "b=32\n",
    "floordiv=(a//b)\n",
    "print(floordiv)"
   ]
  },
  {
   "cell_type": "code",
   "execution_count": 1,
   "metadata": {},
   "outputs": [
    {
     "name": "stdout",
     "output_type": "stream",
     "text": [
      "14\n"
     ]
    }
   ],
   "source": [
    "a=76\n",
    "b=31\n",
    "modulo=(a%b)\n",
    "print(modulo)"
   ]
  },
  {
   "cell_type": "code",
   "execution_count": 2,
   "metadata": {},
   "outputs": [
    {
     "name": "stdout",
     "output_type": "stream",
     "text": [
      "256\n"
     ]
    }
   ],
   "source": [
    "a=4\n",
    "b=4\n",
    "power=(a**b)\n",
    "print(power)"
   ]
  },
  {
   "cell_type": "code",
   "execution_count": null,
   "metadata": {},
   "outputs": [],
   "source": []
  }
 ],
 "metadata": {
  "kernelspec": {
   "display_name": "Python 3",
   "language": "python",
   "name": "python3"
  },
  "language_info": {
   "codemirror_mode": {
    "name": "ipython",
    "version": 3
   },
   "file_extension": ".py",
   "mimetype": "text/x-python",
   "name": "python",
   "nbconvert_exporter": "python",
   "pygments_lexer": "ipython3",
   "version": "3.7.4"
  }
 },
 "nbformat": 4,
 "nbformat_minor": 2
}
